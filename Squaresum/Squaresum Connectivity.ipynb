{
 "cells": [
  {
   "cell_type": "code",
   "execution_count": 0,
   "metadata": {
    "collapsed": false
   },
   "outputs": [
   ],
   "source": [
    "sage_server.MAX_OUTPUT_MESSAGES = 10000\n",
    "sage_server.MAX_OUTPUT = 100000000\n",
    "\n",
    "def is_square(apositiveint):\n",
    "  x = apositiveint // 2\n",
    "  seen = set([x])\n",
    "  while x * x != apositiveint:\n",
    "    x = (x + (apositiveint // x)) // 2\n",
    "    if x in seen: return False\n",
    "    seen.add(x)\n",
    "  return True\n",
    "G = graphs.EmptyGraph()\n",
    "G.add_vertex(1)\n",
    "for k in range (2,35):\n",
    "    G.add_vertex(k)\n",
    "    for i in range(1,k):\n",
    "        if is_square(i+k):\n",
    "            G.add_edge(i,k)\n",
    "    #G.show()\n",
    "    print str(k) + \" \" + str(G.is_connected()) + \" \" + str(G.hamiltonian_path() != None) + \" \" + str(G.is_hamiltonian())"
   ]
  },
  {
   "cell_type": "code",
   "execution_count": 0,
   "metadata": {
    "collapsed": false
   },
   "outputs": [
   ],
   "source": [
    "G.show()"
   ]
  }
 ],
 "metadata": {
  "kernelspec": {
   "display_name": "SageMath (stable)",
   "language": "sagemath",
   "metadata": {
    "cocalc": {
     "description": "Open-source mathematical software system",
     "priority": 10,
     "url": "https://www.sagemath.org/"
    }
   },
   "name": "sagemath"
  },
  "language_info": {
   "codemirror_mode": {
    "name": "ipython",
    "version": 2
   },
   "file_extension": ".py",
   "mimetype": "text/x-python",
   "name": "python",
   "nbconvert_exporter": "python",
   "pygments_lexer": "ipython2",
   "version": "2.7.15"
  }
 },
 "nbformat": 4,
 "nbformat_minor": 0
}